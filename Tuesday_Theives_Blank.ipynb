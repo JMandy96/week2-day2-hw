{
 "cells": [
  {
   "cell_type": "markdown",
   "metadata": {},
   "source": [
    "# Functions, Scoping, Data Collections 1 & List Comprehensions"
   ]
  },
  {
   "attachments": {},
   "cell_type": "markdown",
   "metadata": {},
   "source": [
    "## Tasks Today:\n",
    "\n",
    "1) String Manipulation <br>\n",
    " &nbsp;&nbsp;&nbsp;&nbsp; a) strip() <br>\n",
    " &nbsp;&nbsp;&nbsp;&nbsp; b) title() <br>\n",
    "1) Working With Lists <br>\n",
    " &nbsp;&nbsp;&nbsp;&nbsp; a) min() <br>\n",
    " &nbsp;&nbsp;&nbsp;&nbsp; b) max() <br>\n",
    " &nbsp;&nbsp;&nbsp;&nbsp; c) sum() <br>\n",
    " &nbsp;&nbsp;&nbsp;&nbsp; d) sort() <br>\n",
    " &nbsp;&nbsp;&nbsp;&nbsp; e) Copying a List <br>\n",
    " &nbsp;&nbsp;&nbsp;&nbsp; i) Checking an Empty List <br>\n",
    " &nbsp;&nbsp;&nbsp;&nbsp; j) Removing Instances with a Loop <br>\n",
    "1) List Comprehensions <br>\n",
    "2) Tuples <br>\n",
    " &nbsp;&nbsp;&nbsp;&nbsp; a) sorted() <br>\n",
    "1) Functions <br>\n",
    " &nbsp;&nbsp;&nbsp;&nbsp; a) User-Defined vs. Built-In Functions <br>\n",
    " &nbsp;&nbsp;&nbsp;&nbsp; b) Accepting Parameters <br>\n",
    " &nbsp;&nbsp;&nbsp;&nbsp; c) Default Parameters <br>\n",
    " &nbsp;&nbsp;&nbsp;&nbsp; d) Making an Argument Optional <br>\n",
    " &nbsp;&nbsp;&nbsp;&nbsp; e) Keyword Arguments <br>\n",
    " &nbsp;&nbsp;&nbsp;&nbsp; f) Returning Values <br>\n",
    " &nbsp;&nbsp;&nbsp;&nbsp; g) *args & **kwargs<br>\n",
    " &nbsp;&nbsp;&nbsp;&nbsp; h) Docstring <br>\n",
    " &nbsp;&nbsp;&nbsp;&nbsp; i) Using a User Function in a Loop <br>\n",
    "1) Scope"
   ]
  },
  {
   "cell_type": "markdown",
   "metadata": {},
   "source": [
    "### String Manipulation"
   ]
  },
  {
   "attachments": {},
   "cell_type": "markdown",
   "metadata": {},
   "source": [
    "##### .lstrip() - Remove spaces on the left side of the string"
   ]
  },
  {
   "cell_type": "code",
   "execution_count": 5,
   "metadata": {},
   "outputs": [
    {
     "name": "stdout",
     "output_type": "stream",
     "text": [
      "                  jmandeville\n",
      "jmandeville\n"
     ]
    }
   ],
   "source": [
    "# string.lstrip()\n",
    "# can pass argument to specify what characters to strip \n",
    "txt = '                  jmandeville'\n",
    "\n",
    "print(txt)\n",
    "# without an argument strip will remove the whitespace, add argument to remove more:\n",
    "new_txt = txt.lstrip(' j')\n",
    "print(new_txt)"
   ]
  },
  {
   "attachments": {},
   "cell_type": "markdown",
   "metadata": {},
   "source": [
    "##### .rstrip() - Remove spaces on the right side of the string"
   ]
  },
  {
   "cell_type": "code",
   "execution_count": 7,
   "metadata": {},
   "outputs": [
    {
     "name": "stdout",
     "output_type": "stream",
     "text": [
      "jmandeville          ////\n",
      "jmandeville\n"
     ]
    }
   ],
   "source": [
    "# string.rstrip()\n",
    "txt = 'jmandeville          ////'\n",
    "\n",
    "print(txt)\n",
    "new_text = txt.rstrip(' /')\n",
    "print(new_text)\n"
   ]
  },
  {
   "attachments": {},
   "cell_type": "markdown",
   "metadata": {},
   "source": [
    "##### .strip() - Remove spaces at the beginning and at the end of the string"
   ]
  },
  {
   "cell_type": "code",
   "execution_count": 11,
   "metadata": {},
   "outputs": [
    {
     "name": "stdout",
     "output_type": "stream",
     "text": [
      "          jmandeville          ////\n",
      "jmandevill\n"
     ]
    }
   ],
   "source": [
    "# string.strip()\n",
    "\n",
    "txt = '          jmandeville          ////'\n",
    "print(txt)\n",
    "new_text = txt.strip(' /')\n",
    "print(new_text)\n"
   ]
  },
  {
   "attachments": {},
   "cell_type": "markdown",
   "metadata": {},
   "source": [
    "##### .title() - returns a string where the first character in every word is upper case"
   ]
  },
  {
   "cell_type": "code",
   "execution_count": 14,
   "metadata": {},
   "outputs": [
    {
     "name": "stdout",
     "output_type": "stream",
     "text": [
      "This String Will Not Be Lower Case For Long\n"
     ]
    }
   ],
   "source": [
    "# string.title()\n",
    "text = 'this string will not be lower case for long'\n",
    "\n",
    "new_text = text.title()\n",
    "\n",
    "print(new_text)"
   ]
  },
  {
   "cell_type": "markdown",
   "metadata": {},
   "source": [
    "### String Exercise <br>\n",
    "<p>Strip all white space and capitalize every name in the list given</p>"
   ]
  },
  {
   "cell_type": "code",
   "execution_count": 23,
   "metadata": {},
   "outputs": [
    {
     "name": "stdout",
     "output_type": "stream",
     "text": [
      "Connor\n",
      "Max\n",
      "Evan\n",
      "Jordan\n"
     ]
    }
   ],
   "source": [
    "names = ['    coNNor', 'max', ' EVan ', 'JORDAN']\n",
    "# HINT: You will need to use a for loop for iteration\n",
    "\n",
    "for name in names:\n",
    "    print(name.strip().title())\n",
    "\n"
   ]
  },
  {
   "cell_type": "markdown",
   "metadata": {},
   "source": [
    "### Working With Lists"
   ]
  },
  {
   "attachments": {},
   "cell_type": "markdown",
   "metadata": {},
   "source": [
    "##### min() - returns the item with the lowest value, or the item with the lowest value in an iterable."
   ]
  },
  {
   "cell_type": "code",
   "execution_count": 24,
   "metadata": {},
   "outputs": [
    {
     "name": "stdout",
     "output_type": "stream",
     "text": [
      "1\n"
     ]
    }
   ],
   "source": [
    "# min(list)\n",
    "alist = [1,2,3,4,5,6,7,8,9]\n",
    "\n",
    "lowers = min(alist)\n",
    "\n",
    "print(lowers)"
   ]
  },
  {
   "attachments": {},
   "cell_type": "markdown",
   "metadata": {},
   "source": [
    "##### max() - returns the item with the highest value, or the item with the highest value in an iterable."
   ]
  },
  {
   "cell_type": "code",
   "execution_count": 25,
   "metadata": {},
   "outputs": [
    {
     "name": "stdout",
     "output_type": "stream",
     "text": [
      "9\n"
     ]
    }
   ],
   "source": [
    "# max(list)\n",
    "\n",
    "highest = max(alist)\n",
    "\n",
    "print(highest)"
   ]
  },
  {
   "attachments": {},
   "cell_type": "markdown",
   "metadata": {},
   "source": [
    "##### sum() - returns a number, the sum of all items in an iterable."
   ]
  },
  {
   "cell_type": "code",
   "execution_count": 26,
   "metadata": {},
   "outputs": [
    {
     "name": "stdout",
     "output_type": "stream",
     "text": [
      "45\n"
     ]
    }
   ],
   "source": [
    "# sum(list)\n",
    "\n",
    "total = sum(alist)\n",
    "\n",
    "print(total)"
   ]
  },
  {
   "attachments": {},
   "cell_type": "markdown",
   "metadata": {},
   "source": [
    "##### sorted() - returns a sorted list of the specified iterable object."
   ]
  },
  {
   "cell_type": "code",
   "execution_count": 31,
   "metadata": {},
   "outputs": [
    {
     "name": "stdout",
     "output_type": "stream",
     "text": [
      "[111, 9, 8, 7, 5, 4, 3, 2, 0, -6]\n",
      "[111, 2, 3, 4, 5, 0, -6, 7, 8, 9]\n"
     ]
    }
   ],
   "source": [
    "# sorted(list)\n",
    "# sorted does not effect the original list, it returns a copy\n",
    "# can pass argument to reverse sorted order\n",
    "alist = [111, 2, 3, 4, 5, 0, -6, 7, 8, 9]\n",
    "\n",
    "sorted_list = sorted(alist, reverse = True)\n",
    "\n",
    "print(sorted_list)\n",
    "print(alist)\n",
    "\n"
   ]
  },
  {
   "cell_type": "markdown",
   "metadata": {},
   "source": [
    "##### .sort() <br>\n",
    "<p>Difference between sort and sorted, is that sorted doesn't change original list it returns a copy, while .sort changes the original list</p>"
   ]
  },
  {
   "cell_type": "code",
   "execution_count": 37,
   "metadata": {},
   "outputs": [
    {
     "name": "stdout",
     "output_type": "stream",
     "text": [
      "[111, 9, 8, 7, 5, 4, 3, 2, 0, -6]\n"
     ]
    }
   ],
   "source": [
    "# list.sort()\n",
    "# use sorted when you don't want to alter original list, use .sort() when you want to alter original list\n",
    "alist = [111, 2, 3, 4, 5, 0, -6, 7, 8, 9]\n",
    "\n",
    "alist.sort(reverse = True)\n",
    "\n",
    "print(alist)"
   ]
  },
  {
   "cell_type": "markdown",
   "metadata": {},
   "source": [
    "##### Copying a List"
   ]
  },
  {
   "cell_type": "code",
   "execution_count": 38,
   "metadata": {},
   "outputs": [
    {
     "name": "stdout",
     "output_type": "stream",
     "text": [
      "['sam', 'Omar', 'Justin', 'Mitchell', 'Oackland']\n",
      "['sam', 'Omar', 'Justin', 'Mitchell']\n"
     ]
    }
   ],
   "source": [
    "# [:] copies a list, doesn't alter original\n",
    "# .copy() method\n",
    "stus = ['sam', 'Omar', 'Justin', 'Mitchell', 'Oackland']\n",
    "\n",
    "copy_stus = stus\n",
    "\n",
    "print(copy_stus)\n",
    "popped = copy_stus.pop()\n",
    "print(stus)\n",
    "\n",
    "new_stus = stus[:]\n"
   ]
  },
  {
   "cell_type": "markdown",
   "metadata": {},
   "source": [
    "##### Checking an Empty List"
   ]
  },
  {
   "cell_type": "code",
   "execution_count": 41,
   "metadata": {},
   "outputs": [
    {
     "name": "stdout",
     "output_type": "stream",
     "text": [
      "nothin' here\n"
     ]
    }
   ],
   "source": [
    "# if list1: or if list1 == []:\n",
    "\n",
    "mylist = []\n",
    "\n",
    "if mylist:\n",
    "    print(\"we've got somethin\")\n",
    "else:\n",
    "    print(\"nothin' here\")"
   ]
  },
  {
   "cell_type": "markdown",
   "metadata": {},
   "source": [
    "##### Removing Instances with a Loop"
   ]
  },
  {
   "cell_type": "code",
   "execution_count": 53,
   "metadata": {},
   "outputs": [
    {
     "name": "stdout",
     "output_type": "stream",
     "text": [
      "['Britt', 'Marcos', 'Jake']\n"
     ]
    }
   ],
   "source": [
    "# while & for, remove\n",
    "students = ['Britt', 'Faith', 'Marcos', 'Jake', 'Faith']\n",
    "\n",
    "students.remove('Faith')\n",
    "\n",
    "# while \"faith\" in students:\n",
    "#     students.remove(\"Faith\")\n",
    "\n",
    "if \"Faith\" in students:\n",
    "    students.remove(\"Faith\")\n",
    "\n",
    "\n",
    "# for student in students:\n",
    "#     if student == \"Faith\":\n",
    "#         students.remove(\"Faith\")\n",
    "\n",
    "print(students)"
   ]
  },
  {
   "cell_type": "markdown",
   "metadata": {},
   "source": [
    "### List Exercise <br>\n",
    "<p>Remove all duplicates<br><b>Extra: Create a program that will remove any duplicates from a given list</b></p>"
   ]
  },
  {
   "cell_type": "code",
   "execution_count": 61,
   "metadata": {},
   "outputs": [
    {
     "name": "stdout",
     "output_type": "stream",
     "text": [
      "['connor', 'bob', 'evan', 'max', 2, 3, 4, 'kevin']\n"
     ]
    }
   ],
   "source": [
    "names = ['connor', 'connor', 'bob', 'connor', 'evan', 'max', 'evan', 2, 2, 2, 3, 3, 4, 'bob', 'kevin']\n",
    "# Hint 1: You will need an append\n",
    "# Hint 2: Using an empty list will make life easier\n",
    "new_list = []\n",
    "for name in names:\n",
    "    if name not in new_list:\n",
    "        new_list.append(name)\n",
    "\n",
    "print(new_list)\n"
   ]
  },
  {
   "attachments": {},
   "cell_type": "markdown",
   "metadata": {},
   "source": [
    "#### List Comprehension - offers a shorter syntax when you want to create a new list based on the values of an existing list."
   ]
  },
  {
   "attachments": {},
   "cell_type": "markdown",
   "metadata": {},
   "source": [
    "#### Syntax - newlist = [expression for item in iterable if condition == True]\n",
    "##### The return value is a new list, leaving the old list unchanged.\n",
    "##### The condition is like a filter that only accepts the items that valuate to True."
   ]
  },
  {
   "cell_type": "code",
   "execution_count": 63,
   "metadata": {},
   "outputs": [
    {
     "name": "stdout",
     "output_type": "stream",
     "text": [
      "['Jake', 'Jake', 'Jake', 'Jake', 'Jake', 'Jake', 'Jake', 'Jake', 'Jake', 'Jake']\n",
      "['Jake', 'Jake', 'Jake', 'Jake', 'Jake', 'Jake', 'Jake', 'Jake', 'Jake', 'Jake']\n"
     ]
    }
   ],
   "source": [
    "# number list comprehension\n",
    "\n",
    "# With a regular for loop\n",
    "me_list = []\n",
    "\n",
    "for me in range(10):\n",
    "    me_list.append(\"Jake\")\n",
    "\n",
    "print(me_list)\n",
    "\n",
    "# List Comprehension\n",
    "\n",
    "# variable = [add this | for each item | in a list]\n",
    "list_comp = ['Jake' for me in range(10)]\n",
    "print(list_comp)\n",
    "\n"
   ]
  },
  {
   "attachments": {},
   "cell_type": "markdown",
   "metadata": {},
   "source": [
    "There are a few benefits to using List comprehensions. The most obvious would be that we now have shorter code to work with instead of using 3+ lines of code in the for loop variant.\n",
    "\n",
    "More time-efficient and space-efficient than loops.\n",
    "\n",
    "Lastly, list comprehensions are considered the \"pythonic\" way to write code."
   ]
  },
  {
   "cell_type": "code",
   "execution_count": 64,
   "metadata": {},
   "outputs": [
    {
     "name": "stdout",
     "output_type": "stream",
     "text": [
      "[0, 1, 4, 9, 16, 25, 36, 49, 64, 81]\n",
      "[0, 1, 4, 9, 16, 25, 36, 49, 64, 81]\n"
     ]
    }
   ],
   "source": [
    "# square number list comprehension\n",
    "\n",
    "# With a reg for loop\n",
    "\n",
    "squares = []\n",
    "for num in range(10):\n",
    "    squares.append(num**2)\n",
    "print(squares)\n",
    "# List Comprehension\n",
    "\n",
    "list_comp = [ num**2 for num in range(10)]\n",
    "print(list_comp)\n"
   ]
  },
  {
   "cell_type": "code",
   "execution_count": 74,
   "metadata": {},
   "outputs": [
    {
     "name": "stdout",
     "output_type": "stream",
     "text": [
      "['D', 'C', 'S', 'M', 'D']\n",
      "['Dennis', 'Cameron', 'Sj', 'Mason', 'Dylan']\n"
     ]
    }
   ],
   "source": [
    "# string list comprehension\n",
    "students = ['DeNNis', 'CaMeRon', 'SJ', 'MaSOn', 'DyLAn']\n",
    "\n",
    "# With a reg for loop\n",
    "corrected = []\n",
    "for student in students:\n",
    "    corrected.append(student.title()[0])\n",
    "    \n",
    "\n",
    "print(corrected)\n",
    "# List Comprehension\n",
    "list_comp_correct = [student.title() for student in students]\n",
    "print(list_comp_correct)\n"
   ]
  },
  {
   "attachments": {},
   "cell_type": "markdown",
   "metadata": {},
   "source": [
    "### Tuples - Collection which is ordered, unchangeable, and allow duplicate values."
   ]
  },
  {
   "cell_type": "code",
   "execution_count": 76,
   "metadata": {},
   "outputs": [
    {
     "name": "stdout",
     "output_type": "stream",
     "text": [
      "123\n",
      "345\n",
      "678\n"
     ]
    }
   ],
   "source": [
    "codes = (123, 345, 678)\n",
    "codes2 = 342,4523,254\n",
    "\n",
    "# for loop with tuple\n",
    "for num in codes:\n",
    "    print(num)"
   ]
  },
  {
   "cell_type": "markdown",
   "metadata": {},
   "source": [
    "##### sorted()"
   ]
  },
  {
   "cell_type": "code",
   "execution_count": 78,
   "metadata": {},
   "outputs": [
    {
     "name": "stdout",
     "output_type": "stream",
     "text": [
      "[345, 678, 123543534]\n"
     ]
    }
   ],
   "source": [
    "codes = (123543534, 345, 678)\n",
    "\n",
    "new_codes = sorted(codes)\n",
    "\n",
    "print(new_codes)"
   ]
  },
  {
   "cell_type": "markdown",
   "metadata": {},
   "source": [
    "##### Adding values to a Tuple"
   ]
  },
  {
   "cell_type": "code",
   "execution_count": 79,
   "metadata": {},
   "outputs": [
    {
     "name": "stdout",
     "output_type": "stream",
     "text": [
      "(64578458, 123, 345, 123, 876, 543)\n"
     ]
    }
   ],
   "source": [
    "codes = (64578458, 123, 345)\n",
    "new_codes = (123,876,543)\n",
    "\n",
    "codes = codes + new_codes\n",
    "\n",
    "print(codes)"
   ]
  },
  {
   "cell_type": "markdown",
   "metadata": {},
   "source": [
    "## Functions"
   ]
  },
  {
   "cell_type": "markdown",
   "metadata": {},
   "source": [
    "##### User-Defined vs. Built-In Functions"
   ]
  },
  {
   "cell_type": "code",
   "execution_count": 80,
   "metadata": {},
   "outputs": [
    {
     "name": "stdout",
     "output_type": "stream",
     "text": [
      "Hello Friend!\n"
     ]
    }
   ],
   "source": [
    "#User-defined\n",
    "def greeting():\n",
    "    return \"Hello Friend!\"\n",
    "\n",
    "\n",
    "#Built-In print, showing the function in memory\n",
    "print(greeting)\n",
    "\n",
    "#Built-in print, calling the function\n",
    "print(greeting())"
   ]
  },
  {
   "cell_type": "markdown",
   "metadata": {},
   "source": [
    "##### Accepting Parameters"
   ]
  },
  {
   "cell_type": "code",
   "execution_count": 82,
   "metadata": {},
   "outputs": [
    {
     "name": "stdout",
     "output_type": "stream",
     "text": [
      "My Full name is Jake Mandeville\n"
     ]
    }
   ],
   "source": [
    "# Order matters\n",
    "# A variable can be of any type of object\n",
    "def full_name(first, last):\n",
    "    return f\"My Full name is {first} {last}\"\n",
    "print(full_name('Jake', 'Mandeville'))"
   ]
  },
  {
   "cell_type": "markdown",
   "metadata": {},
   "source": [
    "##### Default Parameters"
   ]
  },
  {
   "cell_type": "code",
   "execution_count": 84,
   "metadata": {},
   "outputs": [
    {
     "name": "stdout",
     "output_type": "stream",
     "text": [
      "This is the Thieves-126 taught by Dylan and Christian\n"
     ]
    }
   ],
   "source": [
    "# default parameters need to be AFTER non-default parameters at all times\n",
    "def class_info(ins1, ins2, cohort= \"Thieves\"):\n",
    "    return f'This is the {cohort} taught by {ins1} and {ins2}'\n",
    "\n",
    "print(class_info(\"Dylan\", \"Christian\"))"
   ]
  },
  {
   "cell_type": "markdown",
   "metadata": {},
   "source": [
    "##### Making an Argument Optional"
   ]
  },
  {
   "cell_type": "code",
   "execution_count": 6,
   "metadata": {},
   "outputs": [
    {
     "name": "stdout",
     "output_type": "stream",
     "text": [
      "Jake \"mandy\" Mandeville\n"
     ]
    }
   ],
   "source": [
    "def nickname(first, last, nickname = None):\n",
    "    if nickname:\n",
    "        print(f'{first} \"{nickname}\" {last}')\n",
    "    else:\n",
    "        print(f'{first} {last}')\n",
    "\n",
    "nickname(\"Jake\", \"Mandeville\", \"mandy\")"
   ]
  },
  {
   "cell_type": "markdown",
   "metadata": {},
   "source": [
    "# Creating a start, stop, step function"
   ]
  },
  {
   "cell_type": "code",
   "execution_count": 10,
   "metadata": {},
   "outputs": [
    {
     "name": "stdout",
     "output_type": "stream",
     "text": [
      "[0, 1, 2, 3, 4, 5, 6, 7, 8, 9]\n"
     ]
    }
   ],
   "source": [
    "def my_range(stop, start=0,step=1):\n",
    "    output = []\n",
    "    for num in range(start,stop,step):\n",
    "        output.append(num)\n",
    "\n",
    "    return output\n",
    "\n",
    "print(my_range(10))"
   ]
  },
  {
   "cell_type": "markdown",
   "metadata": {},
   "source": [
    "##### Returning Values"
   ]
  },
  {
   "cell_type": "code",
   "execution_count": 18,
   "metadata": {},
   "outputs": [
    {
     "name": "stdout",
     "output_type": "stream",
     "text": [
      "Hello\n"
     ]
    }
   ],
   "source": [
    "# see above\n",
    "\n",
    "# def greeting2():\n",
    "#     print('hello')\n",
    "\n",
    "def greeting():\n",
    "       return \"Hello\"\n",
    "\n",
    "greet= greeting()\n",
    "\n",
    "print(greet)\n",
    "\n"
   ]
  },
  {
   "attachments": {},
   "cell_type": "markdown",
   "metadata": {},
   "source": [
    "##### *args/**kwargs (A.K.A. KeyWord Arguments)##### *args"
   ]
  },
  {
   "cell_type": "code",
   "execution_count": 24,
   "metadata": {},
   "outputs": [
    {
     "name": "stdout",
     "output_type": "stream",
     "text": [
      "this is the thieves cohort\n",
      "Taught by Christian and Dylan\n",
      "Our students are:\n",
      "Sam\n",
      "Omar\n",
      "Justin\n",
      "Oackland\n",
      "Hi my name is Dylan\n",
      "This is my routine:\n",
      "{'morning': 'Wake up and take my dog out', 'midday': 'Eat', 'evening': 'Teach'}\n"
     ]
    }
   ],
   "source": [
    "# *args = unlimited amount of arguments, function stores as tuple\n",
    "# **kwargs = unlimited amount of keyword arguments, function stores as dictionary\n",
    "def thieves(ins1, ins2, *students):\n",
    "    print('this is the thieves cohort')\n",
    "    print(f'Taught by {ins1} and {ins2}')\n",
    "    print(f'Our students are:')\n",
    "    for student in students:\n",
    "        print(student)\n",
    "\n",
    "thieves('Christian', 'Dylan', 'Sam', 'Omar', 'Justin','Oackland')\n",
    "\n",
    "\n",
    "def my_routine(person, **dailies):\n",
    "    print(f'Hi my name is {person}')\n",
    "    print('This is my routine:')\n",
    "    print(dailies)\n",
    "\n",
    "my_routine('Dylan', morning = 'Wake up and take my dog out', midday = 'Eat', evening = 'Teach')"
   ]
  },
  {
   "attachments": {},
   "cell_type": "markdown",
   "metadata": {},
   "source": [
    "##### Docstring - Multi-line Comment"
   ]
  },
  {
   "cell_type": "code",
   "execution_count": 29,
   "metadata": {},
   "outputs": [
    {
     "name": "stdout",
     "output_type": "stream",
     "text": [
      "3\n"
     ]
    }
   ],
   "source": [
    "# Allows you to write documentation for user-defined functions\n",
    "def adding(x , y):\n",
    "    '''\n",
    "    This function takes in 2 integers, adds them, and returns the sum\n",
    "    '''\n",
    "\n",
    "    return x + y\n",
    "\n",
    "print(adding(1,2))"
   ]
  },
  {
   "cell_type": "markdown",
   "metadata": {},
   "source": [
    "##### Using a User Function in a Loop"
   ]
  },
  {
   "cell_type": "code",
   "execution_count": 30,
   "metadata": {},
   "outputs": [
    {
     "name": "stdout",
     "output_type": "stream",
     "text": [
      "I love Learning\n",
      "I love Learning\n",
      "I love Learning\n",
      "I love Learning\n",
      "I love Learning\n",
      "I love Learning\n",
      "I love Learning\n",
      "I love Learning\n",
      "I love Learning\n",
      "I love Learning\n"
     ]
    }
   ],
   "source": [
    "def add_one(num):\n",
    "    return num + 1\n",
    "\n",
    "i = 0\n",
    "while i < 10:\n",
    "    print('I love Learning')\n",
    "    i = add_one(i)"
   ]
  },
  {
   "cell_type": "markdown",
   "metadata": {},
   "source": [
    "## Function Exercise <br>\n",
    "<p>Write a function that loops through a list of first_names and a list of last_names, combines the two and return a list of full_names</p>"
   ]
  },
  {
   "cell_type": "code",
   "execution_count": 69,
   "metadata": {},
   "outputs": [
    {
     "name": "stdout",
     "output_type": "stream",
     "text": [
      "['John Smith', 'Evan Smith', 'Jordan Williams', 'Max Bell']\n"
     ]
    }
   ],
   "source": [
    "first_name = ['John', 'Evan', 'Jordan', 'Max']\n",
    "last_name = ['Smith', 'Smith', 'Williams', 'Bell']\n",
    "\n",
    "# Output: ['John Smith', 'Evan Smith', 'Jordan Williams', 'Max Bell']\n",
    "\n",
    "def fulls(firsts, lasts):\n",
    "    full_name = []\n",
    "    for index in range(len(firsts)):\n",
    "        full_name.append(firsts[index] + ' ' + lasts[index])\n",
    "    return full_name\n",
    "\n",
    "print(fulls(first_name, last_name))\n",
    "\n",
    "# first_name = ['John', 'Evan', 'Jordan', 'Max']\n",
    "# last_name = ['Smith', 'Smith', 'Williams', 'Bell']\n",
    "# def myname(me_first=first_name, me_last=last_name):\n",
    "#     full_names = []\n",
    "#     for first, last in me(me_first, me_last):\n",
    "#         full_names.append(f\"{first} {last}\")\n",
    "#     return full_names\n",
    "# print(myname())"
   ]
  },
  {
   "attachments": {},
   "cell_type": "markdown",
   "metadata": {},
   "source": [
    "## Scope <br>\n",
    "<p>Scope refers to the ability to access variables, different types of scope include:<br>a) Global<br>b) Function (local)</p>"
   ]
  },
  {
   "cell_type": "code",
   "execution_count": 2,
   "metadata": {},
   "outputs": [
    {
     "name": "stdout",
     "output_type": "stream",
     "text": [
      "1\n",
      "2\n"
     ]
    }
   ],
   "source": [
    "# Global\n",
    "\n",
    "num = 10\n",
    "\n",
    "# Local\n",
    "\n",
    "def locals():\n",
    "    counter = 1\n",
    "    print(counter)\n",
    "\n",
    "    if num == 10:\n",
    "        counter += 1\n",
    "        new_var = 52\n",
    "    return counter\n",
    "\n",
    "\n",
    "print(locals())"
   ]
  },
  {
   "cell_type": "markdown",
   "metadata": {},
   "source": [
    "# Exercises"
   ]
  },
  {
   "cell_type": "markdown",
   "metadata": {},
   "source": [
    "## Exercise 1 <br>\n",
    "<p>Given a list as a parameter,write a function that returns a list of numbers that are less than ten</b></i></p><br>\n",
    "<p> For example: Say your input parameter to the function is [1,11,14,5,8,9]...Your output should [1,5,8,9]</p>"
   ]
  },
  {
   "cell_type": "code",
   "execution_count": 1,
   "metadata": {},
   "outputs": [
    {
     "name": "stdout",
     "output_type": "stream",
     "text": [
      "[1, 5, 8, 9]\n"
     ]
    }
   ],
   "source": [
    "# Use the following list - [1,11,14,5,8,9]\n",
    "\n",
    "l_1 = [1,11,14,5,8,9]\n",
    "\n",
    "def less_than_ten(alist):\n",
    "    less = []\n",
    "    for num in alist:\n",
    "        if num < 10:\n",
    "            less.append(num)\n",
    "        else:\n",
    "            continue\n",
    "\n",
    "    return less\n",
    "\n",
    "print(less_than_ten(l_1))\n",
    "\n"
   ]
  },
  {
   "cell_type": "markdown",
   "metadata": {},
   "source": [
    "## Exercise 2 <br>\n",
    "<p>Write a function that takes in two lists and returns the two lists merged together and sorted<br>\n",
    "<b><i>Hint: You can use the .sort() method</i></b></p>"
   ]
  },
  {
   "cell_type": "code",
   "execution_count": 2,
   "metadata": {},
   "outputs": [
    {
     "name": "stdout",
     "output_type": "stream",
     "text": [
      "[1, 2, 3, 3, 4, 4, 5, 5, 6, 6, 7, 8, 10]\n"
     ]
    }
   ],
   "source": [
    "l_1 = [1,2,3,4,5,6]\n",
    "l_2 = [3,4,5,6,7,8,10]\n",
    "\n",
    "def combine(l1,l2):\n",
    "    l3 = []\n",
    "    if l1 and l2:\n",
    "        l3 = l1 + l2\n",
    "\n",
    "    l3.sort()\n",
    "    return l3\n",
    "    \n",
    "print(combine(l_1,l_2))\n"
   ]
  }
 ],
 "metadata": {
  "kernelspec": {
   "display_name": "Python 3",
   "language": "python",
   "name": "python3"
  },
  "language_info": {
   "codemirror_mode": {
    "name": "ipython",
    "version": 3
   },
   "file_extension": ".py",
   "mimetype": "text/x-python",
   "name": "python",
   "nbconvert_exporter": "python",
   "pygments_lexer": "ipython3",
   "version": "3.11.4"
  },
  "vscode": {
   "interpreter": {
    "hash": "aa82987a71ca0339a52998cd22613b0c002bda8349fa32a0cb67ceec3936a2bf"
   }
  }
 },
 "nbformat": 4,
 "nbformat_minor": 2
}
